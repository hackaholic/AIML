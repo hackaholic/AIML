{
 "cells": [
  {
   "cell_type": "code",
   "execution_count": 12,
   "id": "265432dd",
   "metadata": {},
   "outputs": [],
   "source": [
    "import numpy as np\n",
    "import pandas as pd\n",
    "\n",
    "import matplotlib.pyplot as plt\n",
    "\n",
    "from sklearn.preprocessing import StandardScaler\n",
    "\n",
    "import tensorflow as tf\n",
    "\n",
    "from tensorflow.keras.layers import Dense\n",
    "from tensorflow.keras.models import Sequential\n"
   ]
  },
  {
   "cell_type": "code",
   "execution_count": 3,
   "id": "559e3860",
   "metadata": {},
   "outputs": [
    {
     "name": "stdout",
     "output_type": "stream",
     "text": [
      "Downloading data from https://storage.googleapis.com/tensorflow/tf-keras-datasets/boston_housing.npz\n",
      "57026/57026 [==============================] - 0s 0us/step\n"
     ]
    }
   ],
   "source": [
    "(x_train, y_train), (x_test, y_test) = tf.keras.datasets.boston_housing.load_data(test_split=0.3)"
   ]
  },
  {
   "cell_type": "code",
   "execution_count": 4,
   "id": "c79059f6",
   "metadata": {},
   "outputs": [],
   "source": [
    "x_train = StandardScaler().fit_transform(x_train)\n",
    "x_test = StandardScaler().fit_transform(x_test)"
   ]
  },
  {
   "cell_type": "code",
   "execution_count": 5,
   "id": "f6031664",
   "metadata": {},
   "outputs": [
    {
     "data": {
      "text/plain": [
       "(354, 13)"
      ]
     },
     "execution_count": 5,
     "metadata": {},
     "output_type": "execute_result"
    }
   ],
   "source": [
    "x_train.shape"
   ]
  },
  {
   "cell_type": "code",
   "execution_count": 8,
   "id": "735489ea",
   "metadata": {},
   "outputs": [
    {
     "name": "stdout",
     "output_type": "stream",
     "text": [
      "Model: \"sequential_2\"\n",
      "_________________________________________________________________\n",
      " Layer (type)                Output Shape              Param #   \n",
      "=================================================================\n",
      " dense_6 (Dense)             (None, 64)                896       \n",
      "                                                                 \n",
      " dense_7 (Dense)             (None, 32)                2080      \n",
      "                                                                 \n",
      " dense_8 (Dense)             (None, 1)                 33        \n",
      "                                                                 \n",
      "=================================================================\n",
      "Total params: 3009 (11.75 KB)\n",
      "Trainable params: 3009 (11.75 KB)\n",
      "Non-trainable params: 0 (0.00 Byte)\n",
      "_________________________________________________________________\n"
     ]
    }
   ],
   "source": [
    "\n",
    "model = Sequential([\n",
    "    Dense(units=64, activation=\"relu\", input_dim=13),\n",
    "    Dense(units=32, activation=\"relu\"),\n",
    "    Dense(units=1)\n",
    "])\n",
    "\n",
    "model.compile(optimizer=\"adam\", loss=\"mse\", metrics=[tf.keras.metrics.RootMeanSquaredError()])\n",
    "model.summary()"
   ]
  },
  {
   "cell_type": "code",
   "execution_count": null,
   "id": "7cc288a8",
   "metadata": {},
   "outputs": [],
   "source": []
  },
  {
   "cell_type": "code",
   "execution_count": 14,
   "id": "180d2e02",
   "metadata": {},
   "outputs": [
    {
     "name": "stdout",
     "output_type": "stream",
     "text": [
      "Epoch 1/100\n",
      "9/9 [==============================] - 0s 17ms/step - loss: 7.1640 - root_mean_squared_error: 2.6766 - val_loss: 25.4629 - val_root_mean_squared_error: 5.0461\n",
      "Epoch 2/100\n",
      "9/9 [==============================] - 0s 15ms/step - loss: 7.1562 - root_mean_squared_error: 2.6751 - val_loss: 25.3565 - val_root_mean_squared_error: 5.0355\n",
      "Epoch 3/100\n",
      "9/9 [==============================] - 0s 12ms/step - loss: 7.0828 - root_mean_squared_error: 2.6613 - val_loss: 25.2715 - val_root_mean_squared_error: 5.0271\n",
      "Epoch 4/100\n",
      "9/9 [==============================] - 0s 6ms/step - loss: 7.0395 - root_mean_squared_error: 2.6532 - val_loss: 25.1102 - val_root_mean_squared_error: 5.0110\n",
      "Epoch 5/100\n",
      "9/9 [==============================] - 0s 13ms/step - loss: 7.0111 - root_mean_squared_error: 2.6478 - val_loss: 25.0973 - val_root_mean_squared_error: 5.0097\n",
      "Epoch 6/100\n",
      "9/9 [==============================] - 0s 19ms/step - loss: 6.9969 - root_mean_squared_error: 2.6452 - val_loss: 25.1916 - val_root_mean_squared_error: 5.0191\n",
      "Epoch 7/100\n",
      "9/9 [==============================] - 0s 12ms/step - loss: 6.9130 - root_mean_squared_error: 2.6293 - val_loss: 25.1298 - val_root_mean_squared_error: 5.0130\n",
      "Epoch 8/100\n",
      "9/9 [==============================] - 0s 7ms/step - loss: 6.8728 - root_mean_squared_error: 2.6216 - val_loss: 24.9448 - val_root_mean_squared_error: 4.9945\n",
      "Epoch 9/100\n",
      "9/9 [==============================] - 0s 14ms/step - loss: 6.8737 - root_mean_squared_error: 2.6218 - val_loss: 25.0438 - val_root_mean_squared_error: 5.0044\n",
      "Epoch 10/100\n",
      "9/9 [==============================] - 0s 12ms/step - loss: 6.7869 - root_mean_squared_error: 2.6052 - val_loss: 24.9162 - val_root_mean_squared_error: 4.9916\n",
      "Epoch 11/100\n",
      "9/9 [==============================] - 0s 8ms/step - loss: 6.8019 - root_mean_squared_error: 2.6080 - val_loss: 24.9825 - val_root_mean_squared_error: 4.9982\n",
      "Epoch 12/100\n",
      "9/9 [==============================] - 0s 15ms/step - loss: 6.7934 - root_mean_squared_error: 2.6064 - val_loss: 24.6325 - val_root_mean_squared_error: 4.9631\n",
      "Epoch 13/100\n",
      "9/9 [==============================] - 0s 12ms/step - loss: 6.6988 - root_mean_squared_error: 2.5882 - val_loss: 24.7844 - val_root_mean_squared_error: 4.9784\n",
      "Epoch 14/100\n",
      "9/9 [==============================] - 0s 13ms/step - loss: 6.6744 - root_mean_squared_error: 2.5835 - val_loss: 24.9340 - val_root_mean_squared_error: 4.9934\n",
      "Epoch 15/100\n",
      "9/9 [==============================] - 0s 7ms/step - loss: 6.6483 - root_mean_squared_error: 2.5784 - val_loss: 24.6435 - val_root_mean_squared_error: 4.9642\n",
      "Epoch 16/100\n",
      "9/9 [==============================] - 0s 15ms/step - loss: 6.6103 - root_mean_squared_error: 2.5710 - val_loss: 24.6147 - val_root_mean_squared_error: 4.9613\n",
      "Epoch 17/100\n",
      "9/9 [==============================] - 0s 13ms/step - loss: 6.5745 - root_mean_squared_error: 2.5641 - val_loss: 24.7657 - val_root_mean_squared_error: 4.9765\n",
      "Epoch 18/100\n",
      "9/9 [==============================] - 0s 12ms/step - loss: 6.5749 - root_mean_squared_error: 2.5642 - val_loss: 24.6852 - val_root_mean_squared_error: 4.9684\n",
      "Epoch 19/100\n",
      "9/9 [==============================] - 0s 7ms/step - loss: 6.5011 - root_mean_squared_error: 2.5497 - val_loss: 24.8442 - val_root_mean_squared_error: 4.9844\n",
      "Epoch 20/100\n",
      "9/9 [==============================] - 0s 18ms/step - loss: 6.4802 - root_mean_squared_error: 2.5456 - val_loss: 24.6993 - val_root_mean_squared_error: 4.9698\n",
      "Epoch 21/100\n",
      "9/9 [==============================] - 0s 11ms/step - loss: 6.4235 - root_mean_squared_error: 2.5345 - val_loss: 24.7128 - val_root_mean_squared_error: 4.9712\n",
      "Epoch 22/100\n",
      "9/9 [==============================] - 0s 11ms/step - loss: 6.4134 - root_mean_squared_error: 2.5325 - val_loss: 24.6573 - val_root_mean_squared_error: 4.9656\n",
      "Epoch 23/100\n",
      "9/9 [==============================] - 0s 11ms/step - loss: 6.3940 - root_mean_squared_error: 2.5286 - val_loss: 24.4311 - val_root_mean_squared_error: 4.9428\n",
      "Epoch 24/100\n",
      "9/9 [==============================] - 0s 18ms/step - loss: 6.3464 - root_mean_squared_error: 2.5192 - val_loss: 24.5182 - val_root_mean_squared_error: 4.9516\n",
      "Epoch 25/100\n",
      "9/9 [==============================] - 0s 13ms/step - loss: 6.3541 - root_mean_squared_error: 2.5207 - val_loss: 24.5690 - val_root_mean_squared_error: 4.9567\n",
      "Epoch 26/100\n",
      "9/9 [==============================] - 0s 12ms/step - loss: 6.3110 - root_mean_squared_error: 2.5122 - val_loss: 24.4499 - val_root_mean_squared_error: 4.9447\n",
      "Epoch 27/100\n",
      "9/9 [==============================] - 0s 12ms/step - loss: 6.2688 - root_mean_squared_error: 2.5037 - val_loss: 24.1760 - val_root_mean_squared_error: 4.9169\n",
      "Epoch 28/100\n",
      "9/9 [==============================] - 0s 12ms/step - loss: 6.2524 - root_mean_squared_error: 2.5005 - val_loss: 24.4256 - val_root_mean_squared_error: 4.9422\n",
      "Epoch 29/100\n",
      "9/9 [==============================] - 0s 6ms/step - loss: 6.1909 - root_mean_squared_error: 2.4881 - val_loss: 24.5185 - val_root_mean_squared_error: 4.9516\n",
      "Epoch 30/100\n",
      "9/9 [==============================] - 0s 7ms/step - loss: 6.1772 - root_mean_squared_error: 2.4854 - val_loss: 24.5225 - val_root_mean_squared_error: 4.9520\n",
      "Epoch 31/100\n",
      "9/9 [==============================] - 0s 17ms/step - loss: 6.1447 - root_mean_squared_error: 2.4788 - val_loss: 24.3179 - val_root_mean_squared_error: 4.9313\n",
      "Epoch 32/100\n",
      "9/9 [==============================] - 0s 12ms/step - loss: 6.1034 - root_mean_squared_error: 2.4705 - val_loss: 24.2555 - val_root_mean_squared_error: 4.9250\n",
      "Epoch 33/100\n",
      "9/9 [==============================] - 0s 11ms/step - loss: 6.0601 - root_mean_squared_error: 2.4617 - val_loss: 24.2799 - val_root_mean_squared_error: 4.9275\n",
      "Epoch 34/100\n",
      "9/9 [==============================] - 0s 14ms/step - loss: 6.0821 - root_mean_squared_error: 2.4662 - val_loss: 24.3368 - val_root_mean_squared_error: 4.9332\n",
      "Epoch 35/100\n",
      "9/9 [==============================] - 0s 13ms/step - loss: 6.0293 - root_mean_squared_error: 2.4555 - val_loss: 24.2470 - val_root_mean_squared_error: 4.9241\n",
      "Epoch 36/100\n",
      "9/9 [==============================] - 0s 14ms/step - loss: 5.9996 - root_mean_squared_error: 2.4494 - val_loss: 24.2852 - val_root_mean_squared_error: 4.9280\n",
      "Epoch 37/100\n",
      "9/9 [==============================] - 0s 7ms/step - loss: 6.0534 - root_mean_squared_error: 2.4604 - val_loss: 24.2608 - val_root_mean_squared_error: 4.9255\n",
      "Epoch 38/100\n",
      "9/9 [==============================] - 0s 12ms/step - loss: 5.9358 - root_mean_squared_error: 2.4364 - val_loss: 24.2752 - val_root_mean_squared_error: 4.9270\n",
      "Epoch 39/100\n",
      "9/9 [==============================] - 0s 13ms/step - loss: 5.8945 - root_mean_squared_error: 2.4279 - val_loss: 24.2227 - val_root_mean_squared_error: 4.9217\n",
      "Epoch 40/100\n",
      "9/9 [==============================] - 0s 24ms/step - loss: 5.9079 - root_mean_squared_error: 2.4306 - val_loss: 24.0139 - val_root_mean_squared_error: 4.9004\n",
      "Epoch 41/100\n",
      "9/9 [==============================] - 0s 37ms/step - loss: 5.8819 - root_mean_squared_error: 2.4253 - val_loss: 24.0290 - val_root_mean_squared_error: 4.9019\n",
      "Epoch 42/100\n",
      "9/9 [==============================] - 0s 14ms/step - loss: 5.8163 - root_mean_squared_error: 2.4117 - val_loss: 23.9952 - val_root_mean_squared_error: 4.8985\n",
      "Epoch 43/100\n",
      "9/9 [==============================] - 0s 8ms/step - loss: 5.7854 - root_mean_squared_error: 2.4053 - val_loss: 24.1384 - val_root_mean_squared_error: 4.9131\n",
      "Epoch 44/100\n",
      "9/9 [==============================] - 0s 23ms/step - loss: 5.7600 - root_mean_squared_error: 2.4000 - val_loss: 24.1645 - val_root_mean_squared_error: 4.9157\n",
      "Epoch 45/100\n",
      "9/9 [==============================] - 0s 12ms/step - loss: 5.7413 - root_mean_squared_error: 2.3961 - val_loss: 23.9912 - val_root_mean_squared_error: 4.8981\n",
      "Epoch 46/100\n",
      "9/9 [==============================] - 0s 11ms/step - loss: 5.7384 - root_mean_squared_error: 2.3955 - val_loss: 24.1188 - val_root_mean_squared_error: 4.9111\n",
      "Epoch 47/100\n",
      "9/9 [==============================] - 0s 8ms/step - loss: 5.6612 - root_mean_squared_error: 2.3793 - val_loss: 23.9827 - val_root_mean_squared_error: 4.8972\n",
      "Epoch 48/100\n",
      "9/9 [==============================] - 0s 13ms/step - loss: 5.6338 - root_mean_squared_error: 2.3736 - val_loss: 23.9568 - val_root_mean_squared_error: 4.8946\n",
      "Epoch 49/100\n",
      "9/9 [==============================] - 0s 8ms/step - loss: 5.6131 - root_mean_squared_error: 2.3692 - val_loss: 24.0021 - val_root_mean_squared_error: 4.8992\n",
      "Epoch 50/100\n",
      "9/9 [==============================] - 0s 12ms/step - loss: 5.5887 - root_mean_squared_error: 2.3640 - val_loss: 24.0308 - val_root_mean_squared_error: 4.9021\n",
      "Epoch 51/100\n",
      "9/9 [==============================] - 0s 7ms/step - loss: 5.5825 - root_mean_squared_error: 2.3627 - val_loss: 23.7686 - val_root_mean_squared_error: 4.8753\n",
      "Epoch 52/100\n",
      "9/9 [==============================] - 0s 9ms/step - loss: 5.5594 - root_mean_squared_error: 2.3578 - val_loss: 23.9727 - val_root_mean_squared_error: 4.8962\n",
      "Epoch 53/100\n",
      "9/9 [==============================] - 0s 11ms/step - loss: 5.5267 - root_mean_squared_error: 2.3509 - val_loss: 23.9524 - val_root_mean_squared_error: 4.8941\n",
      "Epoch 54/100\n",
      "9/9 [==============================] - 0s 8ms/step - loss: 5.4748 - root_mean_squared_error: 2.3398 - val_loss: 23.6724 - val_root_mean_squared_error: 4.8654\n",
      "Epoch 55/100\n",
      "9/9 [==============================] - 0s 14ms/step - loss: 5.5173 - root_mean_squared_error: 2.3489 - val_loss: 23.7898 - val_root_mean_squared_error: 4.8775\n",
      "Epoch 56/100\n",
      "9/9 [==============================] - 0s 10ms/step - loss: 5.4406 - root_mean_squared_error: 2.3325 - val_loss: 23.8744 - val_root_mean_squared_error: 4.8861\n",
      "Epoch 57/100\n",
      "9/9 [==============================] - 0s 12ms/step - loss: 5.4629 - root_mean_squared_error: 2.3373 - val_loss: 23.7576 - val_root_mean_squared_error: 4.8742\n",
      "Epoch 58/100\n",
      "9/9 [==============================] - 0s 6ms/step - loss: 5.4001 - root_mean_squared_error: 2.3238 - val_loss: 23.9082 - val_root_mean_squared_error: 4.8896\n",
      "Epoch 59/100\n",
      "9/9 [==============================] - 0s 13ms/step - loss: 5.4034 - root_mean_squared_error: 2.3245 - val_loss: 23.6720 - val_root_mean_squared_error: 4.8654\n",
      "Epoch 60/100\n",
      "9/9 [==============================] - 0s 12ms/step - loss: 5.3951 - root_mean_squared_error: 2.3227 - val_loss: 23.6123 - val_root_mean_squared_error: 4.8593\n",
      "Epoch 61/100\n",
      "9/9 [==============================] - 0s 15ms/step - loss: 5.3362 - root_mean_squared_error: 2.3100 - val_loss: 23.6737 - val_root_mean_squared_error: 4.8656\n",
      "Epoch 62/100\n",
      "9/9 [==============================] - 0s 12ms/step - loss: 5.3092 - root_mean_squared_error: 2.3042 - val_loss: 23.6892 - val_root_mean_squared_error: 4.8672\n",
      "Epoch 63/100\n",
      "9/9 [==============================] - 0s 7ms/step - loss: 5.2499 - root_mean_squared_error: 2.2913 - val_loss: 23.5571 - val_root_mean_squared_error: 4.8536\n",
      "Epoch 64/100\n",
      "9/9 [==============================] - 0s 17ms/step - loss: 5.2462 - root_mean_squared_error: 2.2905 - val_loss: 23.6757 - val_root_mean_squared_error: 4.8658\n",
      "Epoch 65/100\n",
      "9/9 [==============================] - 0s 7ms/step - loss: 5.2296 - root_mean_squared_error: 2.2868 - val_loss: 23.7294 - val_root_mean_squared_error: 4.8713\n",
      "Epoch 66/100\n",
      "9/9 [==============================] - 0s 10ms/step - loss: 5.1987 - root_mean_squared_error: 2.2801 - val_loss: 23.6097 - val_root_mean_squared_error: 4.8590\n",
      "Epoch 67/100\n",
      "9/9 [==============================] - 0s 14ms/step - loss: 5.1589 - root_mean_squared_error: 2.2713 - val_loss: 23.4621 - val_root_mean_squared_error: 4.8438\n",
      "Epoch 68/100\n",
      "9/9 [==============================] - 0s 12ms/step - loss: 5.1418 - root_mean_squared_error: 2.2675 - val_loss: 23.5082 - val_root_mean_squared_error: 4.8485\n",
      "Epoch 69/100\n",
      "9/9 [==============================] - 0s 7ms/step - loss: 5.1487 - root_mean_squared_error: 2.2691 - val_loss: 23.4542 - val_root_mean_squared_error: 4.8429\n",
      "Epoch 70/100\n",
      "9/9 [==============================] - 0s 12ms/step - loss: 5.0893 - root_mean_squared_error: 2.2560 - val_loss: 23.6330 - val_root_mean_squared_error: 4.8614\n",
      "Epoch 71/100\n",
      "9/9 [==============================] - 0s 12ms/step - loss: 5.1312 - root_mean_squared_error: 2.2652 - val_loss: 23.6326 - val_root_mean_squared_error: 4.8613\n",
      "Epoch 72/100\n",
      "9/9 [==============================] - 0s 8ms/step - loss: 5.0435 - root_mean_squared_error: 2.2458 - val_loss: 23.6221 - val_root_mean_squared_error: 4.8603\n",
      "Epoch 73/100\n",
      "9/9 [==============================] - 0s 9ms/step - loss: 5.0334 - root_mean_squared_error: 2.2435 - val_loss: 23.5324 - val_root_mean_squared_error: 4.8510\n",
      "Epoch 74/100\n",
      "9/9 [==============================] - 0s 11ms/step - loss: 5.0266 - root_mean_squared_error: 2.2420 - val_loss: 23.4816 - val_root_mean_squared_error: 4.8458\n",
      "Epoch 75/100\n",
      "9/9 [==============================] - 0s 10ms/step - loss: 5.0132 - root_mean_squared_error: 2.2390 - val_loss: 23.3511 - val_root_mean_squared_error: 4.8323\n",
      "Epoch 76/100\n",
      "9/9 [==============================] - 0s 7ms/step - loss: 4.9670 - root_mean_squared_error: 2.2287 - val_loss: 23.4334 - val_root_mean_squared_error: 4.8408\n",
      "Epoch 77/100\n",
      "9/9 [==============================] - 0s 7ms/step - loss: 4.9804 - root_mean_squared_error: 2.2317 - val_loss: 23.5455 - val_root_mean_squared_error: 4.8524\n",
      "Epoch 78/100\n",
      "9/9 [==============================] - 0s 7ms/step - loss: 4.9433 - root_mean_squared_error: 2.2234 - val_loss: 23.6079 - val_root_mean_squared_error: 4.8588\n",
      "Epoch 79/100\n",
      "9/9 [==============================] - 0s 8ms/step - loss: 4.8982 - root_mean_squared_error: 2.2132 - val_loss: 23.4608 - val_root_mean_squared_error: 4.8436\n",
      "Epoch 80/100\n",
      "9/9 [==============================] - 0s 10ms/step - loss: 4.9036 - root_mean_squared_error: 2.2144 - val_loss: 23.3936 - val_root_mean_squared_error: 4.8367\n",
      "Epoch 81/100\n",
      "9/9 [==============================] - 0s 10ms/step - loss: 4.8502 - root_mean_squared_error: 2.2023 - val_loss: 23.1914 - val_root_mean_squared_error: 4.8157\n",
      "Epoch 82/100\n",
      "9/9 [==============================] - 0s 6ms/step - loss: 4.8468 - root_mean_squared_error: 2.2016 - val_loss: 23.2904 - val_root_mean_squared_error: 4.8260\n",
      "Epoch 83/100\n",
      "9/9 [==============================] - 0s 12ms/step - loss: 4.8583 - root_mean_squared_error: 2.2042 - val_loss: 23.3989 - val_root_mean_squared_error: 4.8372\n",
      "Epoch 84/100\n",
      "9/9 [==============================] - 0s 12ms/step - loss: 4.7717 - root_mean_squared_error: 2.1844 - val_loss: 23.3560 - val_root_mean_squared_error: 4.8328\n",
      "Epoch 85/100\n",
      "9/9 [==============================] - 0s 7ms/step - loss: 4.8812 - root_mean_squared_error: 2.2093 - val_loss: 23.2836 - val_root_mean_squared_error: 4.8253\n",
      "Epoch 86/100\n",
      "9/9 [==============================] - 0s 24ms/step - loss: 4.8342 - root_mean_squared_error: 2.1987 - val_loss: 23.5052 - val_root_mean_squared_error: 4.8482\n",
      "Epoch 87/100\n",
      "9/9 [==============================] - 0s 8ms/step - loss: 4.7410 - root_mean_squared_error: 2.1774 - val_loss: 23.2530 - val_root_mean_squared_error: 4.8221\n",
      "Epoch 88/100\n",
      "9/9 [==============================] - 0s 23ms/step - loss: 4.6881 - root_mean_squared_error: 2.1652 - val_loss: 23.2077 - val_root_mean_squared_error: 4.8174\n",
      "Epoch 89/100\n",
      "9/9 [==============================] - 0s 13ms/step - loss: 4.7073 - root_mean_squared_error: 2.1696 - val_loss: 23.3052 - val_root_mean_squared_error: 4.8275\n",
      "Epoch 90/100\n",
      "9/9 [==============================] - 0s 12ms/step - loss: 4.6752 - root_mean_squared_error: 2.1622 - val_loss: 23.2002 - val_root_mean_squared_error: 4.8167\n",
      "Epoch 91/100\n",
      "9/9 [==============================] - 0s 7ms/step - loss: 4.6479 - root_mean_squared_error: 2.1559 - val_loss: 23.2800 - val_root_mean_squared_error: 4.8249\n",
      "Epoch 92/100\n",
      "9/9 [==============================] - 0s 13ms/step - loss: 4.6149 - root_mean_squared_error: 2.1482 - val_loss: 23.1510 - val_root_mean_squared_error: 4.8115\n",
      "Epoch 93/100\n",
      "9/9 [==============================] - 0s 7ms/step - loss: 4.6157 - root_mean_squared_error: 2.1484 - val_loss: 23.2421 - val_root_mean_squared_error: 4.8210\n",
      "Epoch 94/100\n",
      "9/9 [==============================] - 0s 19ms/step - loss: 4.6193 - root_mean_squared_error: 2.1493 - val_loss: 23.1624 - val_root_mean_squared_error: 4.8127\n",
      "Epoch 95/100\n",
      "9/9 [==============================] - 0s 7ms/step - loss: 4.5671 - root_mean_squared_error: 2.1371 - val_loss: 23.2760 - val_root_mean_squared_error: 4.8245\n",
      "Epoch 96/100\n",
      "9/9 [==============================] - 0s 11ms/step - loss: 4.5356 - root_mean_squared_error: 2.1297 - val_loss: 23.0963 - val_root_mean_squared_error: 4.8059\n",
      "Epoch 97/100\n",
      "9/9 [==============================] - 0s 13ms/step - loss: 4.5160 - root_mean_squared_error: 2.1251 - val_loss: 23.1302 - val_root_mean_squared_error: 4.8094\n",
      "Epoch 98/100\n",
      "9/9 [==============================] - 0s 7ms/step - loss: 4.4902 - root_mean_squared_error: 2.1190 - val_loss: 23.2308 - val_root_mean_squared_error: 4.8198\n",
      "Epoch 99/100\n",
      "9/9 [==============================] - 0s 7ms/step - loss: 4.4767 - root_mean_squared_error: 2.1158 - val_loss: 23.1176 - val_root_mean_squared_error: 4.8081\n",
      "Epoch 100/100\n",
      "9/9 [==============================] - 0s 9ms/step - loss: 4.4626 - root_mean_squared_error: 2.1125 - val_loss: 23.1290 - val_root_mean_squared_error: 4.8093\n"
     ]
    }
   ],
   "source": [
    "history = model.fit(x_train, y_train, epochs=100, batch_size=32, validation_split=0.2, verbose=1)"
   ]
  },
  {
   "cell_type": "code",
   "execution_count": 15,
   "id": "95c78a83",
   "metadata": {},
   "outputs": [
    {
     "name": "stdout",
     "output_type": "stream",
     "text": [
      "5/5 [==============================] - 0s 2ms/step - loss: 14.7836 - root_mean_squared_error: 3.8449\n"
     ]
    },
    {
     "data": {
      "text/plain": [
       "[14.783588409423828, 3.8449432849884033]"
      ]
     },
     "execution_count": 15,
     "metadata": {},
     "output_type": "execute_result"
    }
   ],
   "source": [
    "model.evaluate(x_test, y_test)"
   ]
  },
  {
   "cell_type": "code",
   "execution_count": 16,
   "id": "07d9de80",
   "metadata": {},
   "outputs": [
    {
     "data": {
      "image/png": "[encoded data removed]",
      "text/plain": [
       "<Figure size 640x480 with 1 Axes>"
      ]
     },
     "metadata": {},
     "output_type": "display_data"
    }
   ],
   "source": [
    "plt.plot(history.history['loss'], label='Train Loss')\n",
    "plt.plot(history.history['val_loss'], label='Val Loss')\n",
    "plt.xlabel('Epochs')\n",
    "plt.ylabel('MSE Loss')\n",
    "plt.title('Training vs Validation Loss')\n",
    "plt.legend()\n",
    "plt.show()"
   ]
  },
  {
   "cell_type": "code",
   "execution_count": null,
   "id": "c9bf3042",
   "metadata": {},
   "outputs": [],
   "source": []
  }
 ],
 "metadata": {
  "kernelspec": {
   "display_name": "Python 3 (ipykernel)",
   "language": "python",
   "name": "python3"
  },
  "language_info": {
   "codemirror_mode": {
    "name": "ipython",
    "version": 3
   },
   "file_extension": ".py",
   "mimetype": "text/x-python",
   "name": "python",
   "nbconvert_exporter": "python",
   "pygments_lexer": "ipython3",
   "version": "3.11.7"
  }
 },
 "nbformat": 4,
 "nbformat_minor": 5
}
