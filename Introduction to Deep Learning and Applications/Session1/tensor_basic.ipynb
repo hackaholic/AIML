{
 "cells": [
  {
   "cell_type": "code",
   "execution_count": 2,
   "id": "9dbe34bf",
   "metadata": {},
   "outputs": [],
   "source": [
    "import numpy as np\n",
    "import tensorflow as tf\n",
    "\n",
    "from warnings import filterwarnings\n",
    "filterwarnings('ignore')"
   ]
  },
  {
   "cell_type": "markdown",
   "id": "e5bbe9a5",
   "metadata": {},
   "source": [
    "### List Physical Devices"
   ]
  },
  {
   "cell_type": "code",
   "execution_count": 5,
   "id": "de3f412e",
   "metadata": {},
   "outputs": [
    {
     "data": {
      "text/plain": [
       "[PhysicalDevice(name='/physical_device:CPU:0', device_type='CPU'),\n",
       " PhysicalDevice(name='/physical_device:GPU:0', device_type='GPU')]"
      ]
     },
     "execution_count": 5,
     "metadata": {},
     "output_type": "execute_result"
    }
   ],
   "source": [
    "tf.config.get_visible_devices()"
   ]
  },
  {
   "cell_type": "code",
   "execution_count": 6,
   "id": "9cb74b1e",
   "metadata": {},
   "outputs": [
    {
     "data": {
      "text/plain": [
       "[PhysicalDevice(name='/physical_device:CPU:0', device_type='CPU'),\n",
       " PhysicalDevice(name='/physical_device:GPU:0', device_type='GPU')]"
      ]
     },
     "execution_count": 6,
     "metadata": {},
     "output_type": "execute_result"
    }
   ],
   "source": [
    "tf.config.list_physical_devices()"
   ]
  },
  {
   "cell_type": "code",
   "execution_count": 8,
   "id": "f7caa4a5",
   "metadata": {},
   "outputs": [
    {
     "data": {
      "text/plain": [
       "[PhysicalDevice(name='/physical_device:CPU:0', device_type='CPU')]"
      ]
     },
     "execution_count": 8,
     "metadata": {},
     "output_type": "execute_result"
    }
   ],
   "source": [
    "tf.config.list_physical_devices('CPU')"
   ]
  },
  {
   "cell_type": "code",
   "execution_count": 9,
   "id": "41d5fa0e",
   "metadata": {},
   "outputs": [
    {
     "data": {
      "text/plain": [
       "[PhysicalDevice(name='/physical_device:GPU:0', device_type='GPU')]"
      ]
     },
     "execution_count": 9,
     "metadata": {},
     "output_type": "execute_result"
    }
   ],
   "source": [
    "tf.config.list_physical_devices('GPU')"
   ]
  },
  {
   "cell_type": "markdown",
   "id": "8eeabf86",
   "metadata": {},
   "source": [
    "### Random"
   ]
  },
  {
   "cell_type": "code",
   "execution_count": 125,
   "id": "67338162",
   "metadata": {},
   "outputs": [
    {
     "data": {
      "text/plain": [
       "<tf.Tensor: shape=(3, 3), dtype=float32, numpy=\n",
       "array([[ 1.0099425 ,  0.85867035,  0.6646044 ],\n",
       "       [-0.85132116, -0.16920228,  1.5054556 ],\n",
       "       [ 0.48194072, -1.921724  , -1.2159052 ]], dtype=float32)>"
      ]
     },
     "execution_count": 125,
     "metadata": {},
     "output_type": "execute_result"
    }
   ],
   "source": [
    "tf.random.set_seed(29)\n",
    "tn = tf.random.normal(shape=(3, 3), seed=29)\n",
    "tn"
   ]
  },
  {
   "cell_type": "code",
   "execution_count": 126,
   "id": "ec1e6914",
   "metadata": {},
   "outputs": [
    {
     "data": {
      "text/plain": [
       "2"
      ]
     },
     "execution_count": 126,
     "metadata": {},
     "output_type": "execute_result"
    }
   ],
   "source": [
    "tn.ndim"
   ]
  },
  {
   "cell_type": "code",
   "execution_count": 18,
   "id": "c9d9ea1f",
   "metadata": {},
   "outputs": [
    {
     "data": {
      "text/plain": [
       "<tf.Tensor: shape=(3, 3), dtype=float32, numpy=\n",
       "array([[47.380917, 22.407063, 60.228687],\n",
       "       [45.50544 , 38.56827 , 98.39682 ],\n",
       "       [22.643772, 51.48035 , 17.80791 ]], dtype=float32)>"
      ]
     },
     "execution_count": 18,
     "metadata": {},
     "output_type": "execute_result"
    }
   ],
   "source": [
    "tf.random.uniform(shape=(3,3), minval=10, maxval=100, seed=29)"
   ]
  },
  {
   "cell_type": "markdown",
   "id": "6fd0955b",
   "metadata": {},
   "source": [
    "### Tensorflow Constant"
   ]
  },
  {
   "cell_type": "code",
   "execution_count": 31,
   "id": "0b8ec3a2",
   "metadata": {},
   "outputs": [
    {
     "data": {
      "text/plain": [
       "<tf.Tensor: shape=(), dtype=int32, numpy=3>"
      ]
     },
     "execution_count": 31,
     "metadata": {},
     "output_type": "execute_result"
    }
   ],
   "source": [
    "t1 = tf.constant(3)\n",
    "t1"
   ]
  },
  {
   "cell_type": "code",
   "execution_count": 32,
   "id": "0dbb0531",
   "metadata": {},
   "outputs": [
    {
     "data": {
      "text/plain": [
       "3"
      ]
     },
     "execution_count": 32,
     "metadata": {},
     "output_type": "execute_result"
    }
   ],
   "source": [
    "# get only values\n",
    "t1.numpy()"
   ]
  },
  {
   "cell_type": "code",
   "execution_count": 33,
   "id": "e32655d5",
   "metadata": {},
   "outputs": [
    {
     "data": {
      "text/plain": [
       "(0, TensorShape([]), TensorShape([]))"
      ]
     },
     "execution_count": 33,
     "metadata": {},
     "output_type": "execute_result"
    }
   ],
   "source": [
    "# get ndim, shape\n",
    "t1.ndim, t1.get_shape(), t1.shape"
   ]
  },
  {
   "cell_type": "code",
   "execution_count": 38,
   "id": "e7cc014f",
   "metadata": {},
   "outputs": [
    {
     "name": "stdout",
     "output_type": "stream",
     "text": [
      "tf.Tensor([1 2 3 4 5], shape=(5,), dtype=int32)\n"
     ]
    },
    {
     "data": {
      "text/plain": [
       "<tf.Tensor: shape=(), dtype=int32, numpy=1>"
      ]
     },
     "execution_count": 38,
     "metadata": {},
     "output_type": "execute_result"
    }
   ],
   "source": [
    "# creating 1D tensor\n",
    "t2 = tf.constant([1, 2, 3, 4, 5])\n",
    "print(t2)\n",
    "tf.rank(t2)"
   ]
  },
  {
   "cell_type": "code",
   "execution_count": null,
   "id": "1d8cf336",
   "metadata": {},
   "outputs": [
    {
     "data": {
      "text/plain": [
       "(<tf.Tensor: shape=(), dtype=int32, numpy=1>,\n",
       " <tf.Tensor: shape=(), dtype=int32, numpy=5>)"
      ]
     },
     "execution_count": 45,
     "metadata": {},
     "output_type": "execute_result"
    }
   ],
   "source": [
    "# Access tensor element using index\n",
    "t2[0], t2[-1]"
   ]
  },
  {
   "cell_type": "code",
   "execution_count": 46,
   "id": "61626fd4",
   "metadata": {},
   "outputs": [
    {
     "data": {
      "text/plain": [
       "<tf.Tensor: shape=(3,), dtype=int32, numpy=array([2, 3, 4], dtype=int32)>"
      ]
     },
     "execution_count": 46,
     "metadata": {},
     "output_type": "execute_result"
    }
   ],
   "source": [
    "# slicing\n",
    "t2[1:4]"
   ]
  },
  {
   "cell_type": "code",
   "execution_count": 37,
   "id": "fe95c8f1",
   "metadata": {},
   "outputs": [
    {
     "data": {
      "text/plain": [
       "<tf.Tensor: shape=(1, 5), dtype=float32, numpy=\n",
       "array([[8.186844 , 4.850914 , 6.4205394, 1.5788679, 2.8602848]],\n",
       "      dtype=float32)>"
      ]
     },
     "execution_count": 37,
     "metadata": {},
     "output_type": "execute_result"
    }
   ],
   "source": [
    "t3 = tf.random.uniform((1,5), minval=1, maxval=10, seed=29)\n",
    "t3"
   ]
  },
  {
   "cell_type": "markdown",
   "id": "e7157930",
   "metadata": {},
   "source": [
    "### Creating tensor  Variable"
   ]
  },
  {
   "cell_type": "code",
   "execution_count": 54,
   "id": "1ad15c0c",
   "metadata": {},
   "outputs": [
    {
     "data": {
      "text/plain": [
       "<tf.Variable 'var1:0' shape=() dtype=int32, numpy=2>"
      ]
     },
     "execution_count": 54,
     "metadata": {},
     "output_type": "execute_result"
    }
   ],
   "source": [
    "tv1 = tf.Variable(2, dtype=tf.int32, name=\"var1\")\n",
    "tv1"
   ]
  },
  {
   "cell_type": "code",
   "execution_count": 55,
   "id": "350ee079",
   "metadata": {},
   "outputs": [
    {
     "data": {
      "text/plain": [
       "5"
      ]
     },
     "execution_count": 55,
     "metadata": {},
     "output_type": "execute_result"
    }
   ],
   "source": [
    "# assignment\n",
    "tv1.assign(5)\n",
    "tv1.numpy()"
   ]
  },
  {
   "cell_type": "code",
   "execution_count": null,
   "id": "89e00f63",
   "metadata": {},
   "outputs": [
    {
     "data": {
      "text/plain": [
       "9"
      ]
     },
     "execution_count": 56,
     "metadata": {},
     "output_type": "execute_result"
    }
   ],
   "source": [
    "# add assignment\n",
    "tv1.assign_add(4)\n",
    "tv1.numpy()"
   ]
  },
  {
   "cell_type": "code",
   "execution_count": null,
   "id": "18a23918",
   "metadata": {},
   "outputs": [
    {
     "data": {
      "text/plain": [
       "6"
      ]
     },
     "execution_count": 57,
     "metadata": {},
     "output_type": "execute_result"
    }
   ],
   "source": [
    "\n",
    "# add assignment\n",
    "tv1.assign_sub(3)\n",
    "tv1.numpy()"
   ]
  },
  {
   "cell_type": "code",
   "execution_count": 62,
   "id": "6876eafa",
   "metadata": {},
   "outputs": [
    {
     "data": {
      "text/plain": [
       "<tf.Variable 'UnreadVariable' shape=() dtype=int32, numpy=18>"
      ]
     },
     "execution_count": 62,
     "metadata": {},
     "output_type": "execute_result"
    }
   ],
   "source": [
    "tv1.assign(tv1 *3)"
   ]
  },
  {
   "cell_type": "code",
   "execution_count": 63,
   "id": "7c863a1c",
   "metadata": {},
   "outputs": [
    {
     "data": {
      "text/plain": [
       "<tf.Variable 'var1:0' shape=() dtype=int32, numpy=18>"
      ]
     },
     "execution_count": 63,
     "metadata": {},
     "output_type": "execute_result"
    }
   ],
   "source": [
    "tv1"
   ]
  },
  {
   "cell_type": "code",
   "execution_count": 68,
   "id": "588e5380",
   "metadata": {},
   "outputs": [
    {
     "data": {
      "text/plain": [
       "<tf.Variable 'Variable:0' shape=(3, 3) dtype=int32, numpy=\n",
       "array([[60, 22, 94],\n",
       "       [15, 97, 88],\n",
       "       [45, 83, 49]], dtype=int32)>"
      ]
     },
     "execution_count": 68,
     "metadata": {},
     "output_type": "execute_result"
    }
   ],
   "source": [
    "# constant to variable\n",
    "tv2 = tf.Variable(tf.random.uniform(shape=(3,3), dtype=tf.int32, minval=10, maxval=100, seed=10))\n",
    "tv2"
   ]
  },
  {
   "cell_type": "code",
   "execution_count": 93,
   "id": "8a43322e",
   "metadata": {},
   "outputs": [
    {
     "data": {
      "text/plain": [
       "<tf.Tensor: shape=(3,), dtype=int32, numpy=array([15, 97, 88], dtype=int32)>"
      ]
     },
     "execution_count": 93,
     "metadata": {},
     "output_type": "execute_result"
    }
   ],
   "source": [
    "tv2[1]"
   ]
  },
  {
   "cell_type": "code",
   "execution_count": 69,
   "id": "b567498e",
   "metadata": {},
   "outputs": [
    {
     "data": {
      "text/plain": [
       "<tf.Tensor: shape=(), dtype=int32, numpy=10>"
      ]
     },
     "execution_count": 69,
     "metadata": {},
     "output_type": "execute_result"
    }
   ],
   "source": [
    "tv2[0,0].assign(10)\n",
    "tv2[0,0]"
   ]
  },
  {
   "cell_type": "code",
   "execution_count": 70,
   "id": "3f51741d",
   "metadata": {},
   "outputs": [
    {
     "data": {
      "text/plain": [
       "<tf.Variable 'UnreadVariable' shape=(3, 3) dtype=int32, numpy=\n",
       "array([[ 1,  1,  1],\n",
       "       [15, 97, 88],\n",
       "       [45, 83, 49]], dtype=int32)>"
      ]
     },
     "execution_count": 70,
     "metadata": {},
     "output_type": "execute_result"
    }
   ],
   "source": [
    "tv2[0, :].assign(tf.constant([1, 1, 1]))"
   ]
  },
  {
   "cell_type": "code",
   "execution_count": 74,
   "id": "90150827",
   "metadata": {},
   "outputs": [
    {
     "data": {
      "text/plain": [
       "<tf.Tensor: shape=(2, 2), dtype=int32, numpy=\n",
       "array([[1, 1],\n",
       "       [1, 1]], dtype=int32)>"
      ]
     },
     "execution_count": 74,
     "metadata": {},
     "output_type": "execute_result"
    }
   ],
   "source": [
    "# one's matrix\n",
    "tf.ones(shape=(2,2), dtype=tf.int32)"
   ]
  },
  {
   "cell_type": "code",
   "execution_count": 75,
   "id": "755f6581",
   "metadata": {},
   "outputs": [
    {
     "data": {
      "text/plain": [
       "<tf.Tensor: shape=(3, 3), dtype=int32, numpy=\n",
       "array([[0, 0, 0],\n",
       "       [0, 0, 0],\n",
       "       [0, 0, 0]], dtype=int32)>"
      ]
     },
     "execution_count": 75,
     "metadata": {},
     "output_type": "execute_result"
    }
   ],
   "source": [
    "# zero tensor matrix\n",
    "\n",
    "tf.zeros(shape=(3,3), dtype=tf.int32)"
   ]
  },
  {
   "cell_type": "code",
   "execution_count": 85,
   "id": "8e9feb59",
   "metadata": {},
   "outputs": [
    {
     "data": {
      "text/plain": [
       "<tf.Variable 'Variable:0' shape=(4, 3) dtype=int32, numpy=\n",
       "array([[75, 24, 80],\n",
       "       [31, 32, 63],\n",
       "       [42, 56, 16],\n",
       "       [64, 51, 95]], dtype=int32)>"
      ]
     },
     "execution_count": 85,
     "metadata": {},
     "output_type": "execute_result"
    }
   ],
   "source": [
    "### reshape\n",
    "tv3  = tf.Variable(tf.random.uniform(shape=(4,3), minval=10, maxval=100, dtype=tf.int32))\n",
    "tv3"
   ]
  },
  {
   "cell_type": "code",
   "execution_count": 86,
   "id": "8ea3be3d",
   "metadata": {},
   "outputs": [
    {
     "data": {
      "text/plain": [
       "<tf.Tensor: shape=(6, 2), dtype=int32, numpy=\n",
       "array([[75, 24],\n",
       "       [80, 31],\n",
       "       [32, 63],\n",
       "       [42, 56],\n",
       "       [16, 64],\n",
       "       [51, 95]], dtype=int32)>"
      ]
     },
     "execution_count": 86,
     "metadata": {},
     "output_type": "execute_result"
    }
   ],
   "source": [
    "tf.reshape(tv3, shape=(6,2))"
   ]
  },
  {
   "cell_type": "code",
   "execution_count": 88,
   "id": "04c1b674",
   "metadata": {},
   "outputs": [
    {
     "data": {
      "text/plain": [
       "<tf.Tensor: shape=(4, 3), dtype=bool, numpy=\n",
       "array([[False,  True, False],\n",
       "       [ True,  True, False],\n",
       "       [ True, False,  True],\n",
       "       [False, False, False]])>"
      ]
     },
     "execution_count": 88,
     "metadata": {},
     "output_type": "execute_result"
    }
   ],
   "source": [
    "# selecting element based on condition\n",
    "tv3 < 50"
   ]
  },
  {
   "cell_type": "code",
   "execution_count": 92,
   "id": "5d860dca",
   "metadata": {},
   "outputs": [
    {
     "data": {
      "text/plain": [
       "<tf.Tensor: shape=(3,), dtype=int32, numpy=array([75, 24, 80], dtype=int32)>"
      ]
     },
     "execution_count": 92,
     "metadata": {},
     "output_type": "execute_result"
    }
   ],
   "source": [
    "tv3[0]"
   ]
  },
  {
   "cell_type": "code",
   "execution_count": 95,
   "id": "403b5d5d",
   "metadata": {},
   "outputs": [
    {
     "data": {
      "text/plain": [
       "<tf.Tensor: shape=(5, 2), dtype=int64, numpy=\n",
       "array([[0, 1],\n",
       "       [1, 0],\n",
       "       [1, 1],\n",
       "       [2, 0],\n",
       "       [2, 2]])>"
      ]
     },
     "execution_count": 95,
     "metadata": {},
     "output_type": "execute_result"
    }
   ],
   "source": [
    "tf.where(tv3 < 50)   # return index of element satifying condition"
   ]
  },
  {
   "cell_type": "code",
   "execution_count": 97,
   "id": "87545212",
   "metadata": {},
   "outputs": [
    {
     "name": "stdout",
     "output_type": "stream",
     "text": [
      "24\n",
      "31\n",
      "32\n",
      "42\n",
      "16\n"
     ]
    }
   ],
   "source": [
    "for i,j in tf.where(tv3 < 50):\n",
    "    print(tv3[i,j].numpy())\n"
   ]
  },
  {
   "cell_type": "markdown",
   "id": "2c20f327",
   "metadata": {},
   "source": [
    "### Rank\n",
    "\n",
    "Rank is the amount of information one need to find a specific  component \n",
    "\n",
    "like in 3x3 -> you need row and column to get a specific element so Ranks is 2"
   ]
  },
  {
   "cell_type": "code",
   "execution_count": 117,
   "id": "53af4754",
   "metadata": {},
   "outputs": [
    {
     "data": {
      "text/plain": [
       "2"
      ]
     },
     "execution_count": 117,
     "metadata": {},
     "output_type": "execute_result"
    }
   ],
   "source": [
    "\n",
    "tf.rank(tv3).numpy()"
   ]
  },
  {
   "cell_type": "code",
   "execution_count": null,
   "id": "07229bb3",
   "metadata": {},
   "outputs": [
    {
     "data": {
      "text/plain": [
       "(<tf.Tensor: shape=(), dtype=int32, numpy=3>,)"
      ]
     },
     "execution_count": 120,
     "metadata": {},
     "output_type": "execute_result"
    }
   ],
   "source": [
    "tv4 = tf.Variable(tf.random.uniform(shape=(3,3,3), minval=10, maxval=10))\n",
    "tf.rank(tv4)"
   ]
  },
  {
   "cell_type": "code",
   "execution_count": 124,
   "id": "6d0f9987",
   "metadata": {},
   "outputs": [
    {
     "data": {
      "text/plain": [
       "(3, <tf.Tensor: shape=(), dtype=int32, numpy=3>)"
      ]
     },
     "execution_count": 124,
     "metadata": {},
     "output_type": "execute_result"
    }
   ],
   "source": [
    "k = tf.random.uniform(shape=(3,3,3), minval=10, maxval=10)\n",
    "k.ndim, tf.rank(k)"
   ]
  },
  {
   "cell_type": "markdown",
   "id": "72fd5790",
   "metadata": {},
   "source": [
    "## Arithmetic operations on Tensors"
   ]
  },
  {
   "cell_type": "code",
   "execution_count": 98,
   "id": "b7cadb79",
   "metadata": {},
   "outputs": [],
   "source": [
    "a = tf.Variable([1, 2, 3])\n",
    "b = tf.Variable([4, 5, 6])"
   ]
  },
  {
   "cell_type": "code",
   "execution_count": 100,
   "id": "43545902",
   "metadata": {},
   "outputs": [
    {
     "name": "stdout",
     "output_type": "stream",
     "text": [
      "[5 7 9]\n",
      "tf.Tensor([-3 -3 -3], shape=(3,), dtype=int32)\n",
      "tf.Tensor([0.25 0.4  0.5 ], shape=(3,), dtype=float64)\n",
      "tf.Tensor([ 4 10 18], shape=(3,), dtype=int32)\n"
     ]
    }
   ],
   "source": [
    "print((a+b).numpy()) \n",
    "print(a-b)\n",
    "print(a/b)\n",
    "print(a*b)"
   ]
  },
  {
   "cell_type": "code",
   "execution_count": null,
   "id": "0f81b853",
   "metadata": {},
   "outputs": [
    {
     "name": "stdout",
     "output_type": "stream",
     "text": [
      "tf.Tensor([5 7 9], shape=(3,), dtype=int32)\n",
      "tf.Tensor([-3 -3 -3], shape=(3,), dtype=int32)\n",
      "tf.Tensor([ 4 10 18], shape=(3,), dtype=int32)\n",
      "tf.Tensor([0.25 0.4  0.5 ], shape=(3,), dtype=float64)\n"
     ]
    }
   ],
   "source": [
    "print(tf.add(a, b))\n",
    "print(tf.subtract(a, b))\n",
    "print(tf.multiply(a, b))   # element wise multiplication\n",
    "print(tf.divide(a, b))"
   ]
  },
  {
   "cell_type": "code",
   "execution_count": 137,
   "id": "560b8b65",
   "metadata": {},
   "outputs": [
    {
     "name": "stdout",
     "output_type": "stream",
     "text": [
      "tf.Tensor([1 4 9], shape=(3,), dtype=int32)\n"
     ]
    }
   ],
   "source": [
    "print(tf.math.pow(a, 2))"
   ]
  },
  {
   "cell_type": "code",
   "execution_count": 156,
   "id": "08524031",
   "metadata": {},
   "outputs": [
    {
     "name": "stdout",
     "output_type": "stream",
     "text": [
      "tf.Tensor(\n",
      "[[78 60 20]\n",
      " [94 49 63]\n",
      " [71 61 66]], shape=(3, 3), dtype=int32) tf.Tensor(\n",
      "[[87 26 64]\n",
      " [94 89 46]\n",
      " [17 66 11]], shape=(3, 3), dtype=int32)\n"
     ]
    }
   ],
   "source": [
    "m1 = tf.random.uniform(shape=(3,3), minval=10, maxval=100, seed=29, dtype=tf.int32)\n",
    "m2 = tf.random.uniform(shape=(3,3), minval=10, maxval=100, seed=29, dtype=tf.int32)\n",
    "print(m1, m2)"
   ]
  },
  {
   "cell_type": "code",
   "execution_count": 144,
   "id": "087ebce9",
   "metadata": {},
   "outputs": [
    {
     "data": {
      "text/plain": [
       "<tf.Tensor: shape=(3, 3), dtype=int32, numpy=\n",
       "array([[5684, 5040, 2052],\n",
       "       [5720, 4224,  182],\n",
       "       [3692, 2670, 8272]], dtype=int32)>"
      ]
     },
     "execution_count": 144,
     "metadata": {},
     "output_type": "execute_result"
    }
   ],
   "source": [
    "# element wise multiplication\n",
    "m1*m2"
   ]
  },
  {
   "cell_type": "code",
   "execution_count": 145,
   "id": "fe16c82d",
   "metadata": {},
   "outputs": [
    {
     "data": {
      "text/plain": [
       "<tf.Tensor: shape=(3, 3), dtype=int32, numpy=\n",
       "array([[5684, 5040, 2052],\n",
       "       [5720, 4224,  182],\n",
       "       [3692, 2670, 8272]], dtype=int32)>"
      ]
     },
     "execution_count": 145,
     "metadata": {},
     "output_type": "execute_result"
    }
   ],
   "source": [
    "tf.multiply(m1, m2)"
   ]
  },
  {
   "cell_type": "code",
   "execution_count": 146,
   "id": "a7237693",
   "metadata": {},
   "outputs": [
    {
     "data": {
      "text/plain": [
       "<tf.Tensor: shape=(3, 3), dtype=int32, numpy=\n",
       "array([[13248, 12346, 10966],\n",
       "       [10254,  9294,  7086],\n",
       "       [16526, 13448, 14914]], dtype=int32)>"
      ]
     },
     "execution_count": 146,
     "metadata": {},
     "output_type": "execute_result"
    }
   ],
   "source": [
    "# maxtix multiplication, this very important  watch carefully\n",
    "tf.matmul(m1, m2)"
   ]
  },
  {
   "cell_type": "code",
   "execution_count": 14,
   "id": "cc96ded5",
   "metadata": {},
   "outputs": [
    {
     "data": {
      "text/plain": [
       "<tf.Tensor: shape=(1,), dtype=float32, numpy=array([1.6918273], dtype=float32)>"
      ]
     },
     "execution_count": 14,
     "metadata": {},
     "output_type": "execute_result"
    }
   ],
   "source": [
    "k1 = tf.random.uniform(shape=(1,), minval=1, maxval=5)\n",
    "k1"
   ]
  },
  {
   "cell_type": "code",
   "execution_count": 11,
   "id": "1dae646c",
   "metadata": {},
   "outputs": [
    {
     "data": {
      "text/plain": [
       "<tf.Tensor: shape=(2, 1), dtype=float32, numpy=\n",
       "array([[2.170589],\n",
       "       [1.116847]], dtype=float32)>"
      ]
     },
     "execution_count": 11,
     "metadata": {},
     "output_type": "execute_result"
    }
   ],
   "source": [
    "k2 = tf.random.uniform(shape=(2,1), minval=1, maxval=5)\n",
    "k2"
   ]
  },
  {
   "cell_type": "code",
   "execution_count": 16,
   "id": "290be360",
   "metadata": {},
   "outputs": [],
   "source": [
    "# k1@k2    # uncomment to see error"
   ]
  },
  {
   "cell_type": "code",
   "execution_count": 17,
   "id": "546f4e60",
   "metadata": {},
   "outputs": [
    {
     "data": {
      "text/plain": [
       "<tf.Tensor: shape=(1, 1), dtype=float32, numpy=array([[1.6918273]], dtype=float32)>"
      ]
     },
     "execution_count": 17,
     "metadata": {},
     "output_type": "execute_result"
    }
   ],
   "source": [
    "tf.reshape(k1, (1, -1))"
   ]
  },
  {
   "cell_type": "code",
   "execution_count": 150,
   "id": "7cf9b4d9",
   "metadata": {},
   "outputs": [
    {
     "name": "stderr",
     "output_type": "stream",
     "text": [
      "2025-05-03 12:36:40.905695: I tensorflow/core/util/cuda_solvers.cc:179] Creating GpuSolver handles for stream 0x881aa20\n"
     ]
    },
    {
     "data": {
      "text/plain": [
       "<tf.Tensor: shape=(), dtype=float32, numpy=149681.0>"
      ]
     },
     "execution_count": 150,
     "metadata": {},
     "output_type": "execute_result"
    }
   ],
   "source": [
    "# Determinant\n",
    "tf.linalg.det(tf.cast(m1, dtype=tf.float32))"
   ]
  },
  {
   "cell_type": "code",
   "execution_count": 161,
   "id": "ec228028",
   "metadata": {},
   "outputs": [
    {
     "data": {
      "text/plain": [
       "<tf.Tensor: shape=(3,), dtype=complex64, numpy=array([182.6952  +0.j,  29.813766+0.j, -19.508965+0.j], dtype=complex64)>"
      ]
     },
     "execution_count": 161,
     "metadata": {},
     "output_type": "execute_result"
    }
   ],
   "source": [
    "# Eigen values\n",
    "tf.linalg.eigvals(tf.cast(m1, dtype=tf.float32))"
   ]
  },
  {
   "cell_type": "code",
   "execution_count": 162,
   "id": "5a052ba6",
   "metadata": {},
   "outputs": [
    {
     "data": {
      "text/plain": [
       "<tf.Tensor: shape=(3, 3), dtype=int32, numpy=\n",
       "array([[78, 94, 71],\n",
       "       [60, 49, 61],\n",
       "       [20, 63, 66]], dtype=int32)>"
      ]
     },
     "execution_count": 162,
     "metadata": {},
     "output_type": "execute_result"
    }
   ],
   "source": [
    "tf.transpose(m1)"
   ]
  },
  {
   "attachments": {
    "{F299E755-F05B-48EC-B255-6F89986BEC98}.png": {
     "image/png": "[encoded data removed]"
    }
   },
   "cell_type": "markdown",
   "id": "8bc0a081",
   "metadata": {},
   "source": [
    "![{F299E755-F05B-48EC-B255-6F89986BEC98}.png](attachment:{F299E755-F05B-48EC-B255-6F89986BEC98}.png)"
   ]
  },
  {
   "cell_type": "code",
   "execution_count": 127,
   "id": "09882c68",
   "metadata": {},
   "outputs": [
    {
     "data": {
      "text/plain": [
       "<tf.Tensor: shape=(), dtype=int32, numpy=32>"
      ]
     },
     "execution_count": 127,
     "metadata": {},
     "output_type": "execute_result"
    }
   ],
   "source": [
    "# Dot product\n",
    "\n",
    "tf.tensordot(a, b, 1)"
   ]
  },
  {
   "attachments": {
    "{EC935A35-2E76-4BED-AC22-CA11C042460E}.png": {
     "image/png": "[encoded data removed]"
    }
   },
   "cell_type": "markdown",
   "id": "2eb80a9e",
   "metadata": {},
   "source": [
    "![{EC935A35-2E76-4BED-AC22-CA11C042460E}.png](attachment:{EC935A35-2E76-4BED-AC22-CA11C042460E}.png)"
   ]
  },
  {
   "cell_type": "code",
   "execution_count": 128,
   "id": "edadd1fa",
   "metadata": {},
   "outputs": [
    {
     "data": {
      "text/plain": [
       "<tf.Tensor: shape=(3, 3), dtype=int32, numpy=\n",
       "array([[ 4,  5,  6],\n",
       "       [ 8, 10, 12],\n",
       "       [12, 15, 18]], dtype=int32)>"
      ]
     },
     "execution_count": 128,
     "metadata": {},
     "output_type": "execute_result"
    }
   ],
   "source": [
    "tf.tensordot(a, b, 0)"
   ]
  },
  {
   "cell_type": "code",
   "execution_count": null,
   "id": "3973bebc",
   "metadata": {},
   "outputs": [],
   "source": []
  },
  {
   "cell_type": "markdown",
   "id": "879b01ce",
   "metadata": {},
   "source": [
    "### GradientTape\n",
    "\n",
    "GradientTape\" is a TensorFlow API for automatic differentiation, which means computing the gradient of a computation with respect to some inputs, usually tf. Variable.\n",
    "\n",
    "Trainable variables (created by tf.Variable or tf.compat.v1.get_variable, where trainable=True is default in both cases) are automatically watched. Tensors can be manually watched by invoking the watch method on this context manager.\n",
    "\n"
   ]
  },
  {
   "cell_type": "code",
   "execution_count": 169,
   "id": "d8e3c930",
   "metadata": {},
   "outputs": [
    {
     "name": "stdout",
     "output_type": "stream",
     "text": [
      "tf.Tensor(6.0, shape=(), dtype=float32)\n"
     ]
    }
   ],
   "source": [
    "x = tf.constant(3.0)\n",
    "\n",
    "with tf.GradientTape() as g:\n",
    "    g.watch(x)\n",
    "    y = x**2\n",
    "\n",
    "dy_dx = g.gradient(y, x)\n",
    "print(dy_dx)"
   ]
  },
  {
   "cell_type": "code",
   "execution_count": 172,
   "id": "5f3d9db4",
   "metadata": {},
   "outputs": [
    {
     "name": "stdout",
     "output_type": "stream",
     "text": [
      "tf.Tensor(74.99999, shape=(), dtype=float32)\n",
      "tf.Tensor(30.0, shape=(), dtype=float32)\n"
     ]
    }
   ],
   "source": [
    "x = tf.Variable(5.0)\n",
    "\n",
    "with tf.GradientTape() as g1:\n",
    "    with tf.GradientTape() as g2:\n",
    "        y = x**3\n",
    "    dy_dx = g2.gradient(y, x)\n",
    "    print(dy_dx)\n",
    "d2y_dx2 = g1.gradient(dy_dx, x)\n",
    "\n",
    "print(d2y_dx2)\n"
   ]
  },
  {
   "cell_type": "code",
   "execution_count": null,
   "id": "a32db41e",
   "metadata": {},
   "outputs": [],
   "source": []
  }
 ],
 "metadata": {
  "kernelspec": {
   "display_name": "Python 3 (ipykernel)",
   "language": "python",
   "name": "python3"
  },
  "language_info": {
   "codemirror_mode": {
    "name": "ipython",
    "version": 3
   },
   "file_extension": ".py",
   "mimetype": "text/x-python",
   "name": "python",
   "nbconvert_exporter": "python",
   "pygments_lexer": "ipython3",
   "version": "3.11.7"
  }
 },
 "nbformat": 4,
 "nbformat_minor": 5
}
